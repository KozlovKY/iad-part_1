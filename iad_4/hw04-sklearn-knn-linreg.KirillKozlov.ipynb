<!DOCTYPE html PUBLIC "-//W3C//DTD HTML 4.01 Transitional//EN" "http://www.w3.org/TR/html4/loose.dtd">

<html>
<head>
    <meta http-equiv="Content-Type" content="text/html; charset=UTF-8">
    <title>Домашнее задание 4 | Козлов Кирилл </title>

    
        <script src="https://yastatic.net/jquery/2.2.3/jquery.min.js"></script>
        <script src="https://yastatic.net/jquery-ui/1.11.2/jquery-ui.min.js"></script>
        <script src="https://cdnjs.cloudflare.com/ajax/libs/smalot-bootstrap-datetimepicker/2.4.4/js/bootstrap-datetimepicker.min.js"></script>
        <script src="https://cdnjs.cloudflare.com/ajax/libs/smalot-bootstrap-datetimepicker/2.4.4/js/locales/bootstrap-datetimepicker.ru.js"></script>
        <script src="https://cdnjs.cloudflare.com/ajax/libs/tether/1.4.0/js/tether.min.js"></script>
        <script src="https://maxcdn.bootstrapcdn.com/bootstrap/4.0.0-alpha.2/js/bootstrap.min.js"></script>
        <script src="https://malsup.github.io/jquery.form.js"></script>
        <script src="/static/jquery.tablesorter/jquery.tablesorter.min.js"></script>
        <script src="/static/jquery-metadata/jquery.metadata.js"></script>
        <script src="/static/bootstrap-multiselect.min.js"></script>
        <script src="/static/typeahead.bundle.min.js"></script>

        <link href="https://maxcdn.bootstrapcdn.com/bootstrap/4.0.0-alpha.2/css/bootstrap.min.css" rel="stylesheet">
        <link href="//maxcdn.bootstrapcdn.com/font-awesome/4.1.0/css/font-awesome.min.css" rel="stylesheet">
        <link href="https://yastatic.net/jquery-ui/1.11.2/themes/base/jquery-ui.min.css" rel="stylesheet">
        <link href="https://cdnjs.cloudflare.com/ajax/libs/smalot-bootstrap-datetimepicker/2.4.4/css/bootstrap-datetimepicker.min.css" rel="stylesheet">
        <link href="/static/bootstrap-multiselect.css" rel="stylesheet">
        <link href="/static/typeahead.css" rel="stylesheet">

        <script type="text/javascript">
            function set_lang(lang) {
                $.post('/set_lang/', {'lang': lang, 'csrfmiddlewaretoken': "D54GiJySww8soAhfQcGCI1QbhWCHaZF4TAvEKiQHK7hEBbwwqr2eF59neSjGHVLt",}).done(function (data) {
                    location.reload(true);
                    });
            }
        </script>


        <script type="text/javascript">
            if (!String.prototype.format) {
                String.prototype.format =  function(){
                    var args = arguments;
                    return this.replace(/\{(\d+)\}/g, function(m, n){
                        if (m == "{" + "{") { return "{"; }
                        if (m == "}" + "}") { return "}"; }
                        return args[n];
                    });
                };
            }
            $(function() {
                var user_profiles_bloodhound = new Bloodhound({
                    datumTokenizer: function(datum) {
                        return Bloodhound.tokenizers.whitespace(datum.fullname);
                    },
                    queryTokenizer: Bloodhound.tokenizers.whitespace,
                    remote: {
                        wildcard: '%QUERY',
                        url: '/search/users?q=%QUERY',
                        transform: function(response) {
                            $('#navbar_search').data('up_limited', response.is_limited);
                            return response.result;
                        }
                    }
                });
                var courses_bloodhound = new Bloodhound({
                    datumTokenizer: function(datum) {
                        return Bloodhound.tokenizers.whitespace(datum.fullname);
                    },
                    queryTokenizer: Bloodhound.tokenizers.whitespace,
                    remote: {
                        wildcard: '%QUERY',
                        url: '/search/courses?q=%QUERY',
                        transform: function(response) {
                            $('#navbar_search').data('course_limited', response.is_limited);
                            return response.result;
                        }
                    }
                });

                $('#navbar_search').typeahead({
                        highlight: true,
                        hint: false,
                        minLength: 3
                    },
                    {
                        name: 'user_profiles',
                        displayKey: 'fullname',
                        source: user_profiles_bloodhound.ttAdapter(),
                        templates: {
                            header: '<h6 class="search-model-name">Users</h6>',
                            suggestion: function(data) {
                                var table_html = '<div class="sgs-result-up" data-url="{0}"><table>' +
                                    '<tr><td style="padding-right: 10px;"><img class="avatar" src="{1}" style="width: 30px; height: 30px;"></td>' +
                                    '<td><div><strong>{2}</strong></div>{3}</td></tr>' +
                                    '<tr><td></td><td>{4}</td></tr>' +
                                    '<tr><td></td><td><strong>Logins</strong></td></tr>' +
                                    '<tr><td></td><td>{5}@ <small class="text-muted">Anytask</small></td></tr>' +
                                    '{6}' +
                                    '{7}' +
                                    '</table></div>';
                                var email_html = '';
                                var ya_contest_login_html = '';
                                var ya_passport_email_html = '';
                                var avatar = data.avatar;
                                var status_html = '';
                                var status_template = '<span class="label label-status-sgs" style="background-color: {0}">{1}</span>';
                                var MAX_STATUSES = 2;
                                var status_counter = 0;

                                while (status_counter < data.statuses.length) {
                                    if (status_counter == MAX_STATUSES) {
                                        status_html += '<span class="label label-status-sgs label-default ">More ' + (data.statuses.length - MAX_STATUSES) + '</span>';
                                        break;
                                    }

                                    status_html += status_template.format(data.statuses[status_counter][1], data.statuses[status_counter][0]);
                                    ++status_counter;
                                }

                                if (!avatar)
                                    avatar = 'https://www.gravatar.com/avatar/00000000000000000000000000000000?d=mm&f=y';
                                if (data.email)
                                    email_html = '<div class="sgs-email">{0}</div>'.format(data.email);
                                if (data.ya_contest_login)
                                    ya_contest_login_html = '<tr><td></td><td>{0}@ <small class="text-muted">Ya.Contest</small></td></tr>'.format(data.ya_contest_login);
                                if (data.ya_passport_email)
                                    ya_passport_email_html = '<tr><td></td><td>{0} <small class="text-muted">Yandex mail</small></td></tr>'.format(data.ya_passport_email);

                                return table_html.format(data.url, avatar, data.fullname, email_html, status_html, data.username, ya_contest_login_html, ya_passport_email_html)
                            },
                            
                        }
                    },
                    {
                        name: 'courses',
                        displayKey: 'name',
                        source: courses_bloodhound.ttAdapter(),
                        templates: {
                            header: '<h6 class="search-model-name">Courses</h6>',
                            suggestion: function(data) {
                                var schools_html = '';
                                var archive_html = '';

                                if (!data.is_active)
                                    archive_html = '<small class="text-muted">Archive</small>';

                                for (var i = 0; i < data.schools.length; ++i)
                                    schools_html += '<div>{0}</div>'.format(data.schools[i]);
                                var course_html = '<div data-url="{0}"><div class="sgs-result-course"><strong>{1} {2}</strong>{3}</div>' +
                                    '<div class="sgs-result-course">{4}</div></div>';

                                return course_html.format(data.url, data.name, data.year, archive_html, schools_html);
                            },
                            
                        }
                    }
                ).on('typeahead:select', function(ev, suggestion) {
                    window.location = suggestion.url;
                }).on('typeahead:render', function (event, items, isAsync, datasetName) {
                    if (items) {
                        var menu = $(this).siblings('.tt-menu');

                        if ($('#navbar_search').data('course_limited') || $('#navbar_search').data('up_limited')) {
                            if (!$('.search-show-more', menu).length)
                                $(menu).append("<div class='search-show-more'><button type='submit'>vse_resultaty</button></div>");
                        }
                        else
                            $('.search-show-more', menu).remove();
                    }
                });

                $('.tt-menu').on("mouseleave", function() {
                        $(this).find('.tt-cursor').removeClass('tt-cursor');
                    }
                ).on("mouseenter", 'div.search-show-more', function() {
                        $(this).closest('.tt-menu').find('.tt-cursor').removeClass('tt-cursor');
                    }
                );


                $(document).on('click', '.nav-form-search form[role="search"]:not(.active) button[type="submit"]', function(event) {
                    event.preventDefault();
                    var form = $(this).closest('form[role="search"]');
                    var input = form.find('input[name="q"]');
                    form.addClass('active');
                    input.focus();

                });

                $(document).on('click', '.nav-form-search form[role="search"].active button[type="submit"]', function(event) {
                    event.preventDefault();
                    var form = $(this).closest('form[role="search"]');
                    var input = form.find('input[name="q"]');
                    if (input.val()) {
                        form.submit();
                    }
                    else {
                        form.removeClass('active');
                    }
                });

            });
        </script>

        <style type="text/css">

            

            
            
            
            
            
            
            
            
            
            
            
            
            
            
            
            
            
            
            
            
            
            
            
            
            

            .hidden {
                display: none !important;
            }

            body {
                padding-top: 4.75rem;
                padding-bottom: 40px;
                background-color: #f5f8fa;
                margin-bottom: 60px;
            }

            .table .no-font-weight {
                font-weight: normal;
                white-space: nowrap;
            }

            .multiselect-dropdown button.multiselect-clear-filter i{
                line-height: inherit;
            }

            .sidebar-nav {
                padding: 9px 0;
            }

            .breadcrumb {
                margin-bottom: .4rem;
                margin-top: -.75rem;
                padding: .4rem .4rem .4rem .2rem;
                background-color: #f5f8fa;
                border-color: #f5f8fa;
            }

            .breadcrumb_button {
                position: absolute;
                right: 55px;
                top: 63px;
            }

            
            
            

            /* Automatic Serial Number Row */
            .css-serial {
                counter-reset: serial-number; /* Set the serial number counter to 0 */
            }
            .css-serial td:first-child:before {
                counter-increment: serial-number; /* Increment the serial number counter */
                content: counter(serial-number); /* Display the counter */
            }

            img.avatar {
                object-fit: cover;
                border-radius: 50%;
                width: 50px;
                height: 50px;
                border: 1px solid #c3c3c3;
            }

            .fixedsticky { top: 120px; }

            
            
            
            
            
            


            .label-inverse {
                background-color: #333333;
            }

            .navbar-blue {
                background-color: #3097d1;
                border-color: #1c73a5;

            }

            .card-clickable {
                color:#373a3c;
            }

            /* Sticky footer styles
    -------------------------------------------------- */
            html {
                position: relative;
                min-height: 100%;
            }

            .footer {
                position: absolute;
                bottom: 0;
                width: 100%;
                height: 60px;
                line-height: 60px;
                background-color: #f5f5f5;
            }


            .footer > .container {
                padding-right: 15px;
                padding-left: 15px;
            }

            .item-fullscreen {
                position: absolute;
                height: -moz-calc(100% - 100px);
                height: -webkit-calc(100% - 100px);
                height: calc(100% - 100px);
                width: 100%;
                top: 2.8rem;
                right: 0;
                z-index:100;
            }

            .group-table {
                position: absolute;
                height: -moz-calc(100% - 220px);
                height: -webkit-calc(100% - 220px);
                height: calc(100% - 220px);
                width: calc(100% - 29px);
            }

            .card-block.card-centered {
                display: table;
                margin-right: auto;
                margin-left: auto;
                text-align: center;
            }

            .card-block.card-centered .card-title{
                display: table-cell;
                vertical-align: middle;
            }

            .multiselect-dropdown button.multiselect-clear-filter i{
                line-height: inherit;
            }

            label.disabled {
                color: #777;
            }

            @media (min-width: 1900px ) {
                .container {
                    max-width: 1400px;
                }
            }

            .nav-right {
                float: right;
            }

            #navbar_user_name {
                display: none;
            }

            @media (max-width: 991px) {
                .hidden-md {
                    display: block !important;
                }
                .visible-md {
                    display: none !important;
                }
                .navbar-brand {
                    float: none;
                    margin-right: 0;
                    line-height: 1.9;
                }
                .navbar-toggleable-md .navbar-nav .nav-item {
                    float: none !important;
                    margin-left: 0;
                }
                .navbar-toggleable-md .navbar-nav .dropdown-menu {
                    position: static;
                    float: none;
                }
                .nav-right {
                    float: none;
                }

                #navbar_user_name {
                    display: inline;
                }
                .dropdown-username .dropdown-header {
                    display: none;
                }

                .fa {
                    width: 1.3em;
                    text-align: center;
                }
            }

            .nav-form-search .tt-dropdown-menu, .tt-menu,
            .form-search .tt-dropdown-menu, .tt-menu {
                padding: 0;
            }

            .nav-form-search .search-model-name,
            .form-search .search-model-name {
                margin: 5px 20px 5px 20px;
                padding: 3px 0;
            }

            .nav-form-search .tt-suggestion,
            .form-search .tt-suggestion {
                padding: 5px 20px 5px 20px;
                border-top: 1px solid #ccc;
            }

            .nav-form-search .tt-suggestion:last-child,
            .form-search .tt-suggestion:last-child {
                border-bottom: 1px solid #ccc;
            }

            .nav-form-search input {
                position: relative;
            }

            .nav-form-search .input-group {
                width: 100%;
            }

            .nav-form-search .input-group-btn {
                width: inherit;
                display: none;
            }

            .nav-form-search input {
                color: rgba(255,255,255,.75);
                background-color: #3386bf;
                border-color: #3386bf;
                padding: .425rem;
                border-radius: 0;
                border-width: 0;
                box-shadow: none;
                outline: none;
            }

            .nav-form-search button {
                color: rgba(255,255,255,.5);
                background-color: #3097d1;
                border-color: #3097d1;
                padding: .425rem;
                padding-right: 0;
                border-radius: 0;
                border-width: 0;
                box-shadow: none;
                outline: none;
            }

            .nav-form-search button:focus,
            .nav-form-search button:active,
            .nav-form-search button:hover {
                color: rgba(255,255,255,.75);
                background-color: #3097d1;
                border-color: #3097d1;
                outline: none;
            }

            .nav-form-search input::-webkit-input-placeholder {
                color: rgba(255,255,255,.5);
            ;}

            .nav-form-search input::-moz-placeholder {
                color: rgba(255,255,255,.5);
            ;}

            .nav-form-search input:-moz-placeholder {
                color: rgba(255,255,255,.5);
            ;}

            .nav-form-search input:-ms-input-placeholder {
                color: rgba(255,255,255,.5);
            ;}

            @media (min-width: 991px) {
                .nav-form-search  form[role="search"] .input-group-input {
                    position: absolute;
                    width: 0;
                    left: 0;
                    -webkit-transition: width 0.3s ease-out, left 0.3s ease-out;
                    -moz-transition: width 0.3s ease-out, left 0.3s ease-out;
                    -o-transition: width 0.3s ease-out, left 0.3s ease-out;
                    transition: width 0.3s ease-out, left 0.3s ease-out;
                }
                .nav-form-search .input-group-btn {
                    display: table-cell;
                }
                .nav-form-search .input-group {
                    width: inherit;
                }
                .nav-form-search  form[role="search"].active button,
                .nav-form-search  form[role="search"].active input {
                    display: inline;
                }
                .nav-form-search  form[role="search"].active .input-group-input {
                    width: 15rem;
                    left: -15rem;
                }
                .hidden-md {
                    display: none !important;
                }
                .visible-md {
                    margin-left: 0 !important;
                    display: block !important;
                }
            }

            @media (min-width: 1200px) {
                .hidden-md {
                    display: block !important;
                }
                .visible-md {
                    display: none !important;
                }
            }

            .sgs-result-up table tr:first-child,
            .sgs-result-course:first-child{
                font-size: 0.9rem;
            }
            .sgs-result-up table tr .sgs-email{
                padding-bottom: 10px;
            }
            .sgs-result-course div{
                font-weight: normal;
            }
            .sgs-result-up table tr .sgs-email,
            .sgs-result-up table tr,
            .sgs-result-course{
                font-size: 0.7rem;
            }

            .search-show-more button {
                width: 100%;
                color: #333333;
                background-color: transparent;
                border-color: transparent;
                padding: 8px 12px;
                border-radius: 0;
                border-width: 0;
                box-shadow: none;
                outline: none;
            }
            .form-search .search-show-more button {
                text-align: left;
            }

            .search-show-more button:focus,
            .search-show-more button:active,
            .search-show-more button:hover {
                color: #262626;
                background-color: #f5f5f5;
                border-color: transparent;
                padding: 8px 12px;
                border-radius: 0;
                border-width: 0;
                box-shadow: none;
                cursor: pointer;
                text-decoration: none;
                outline: 0;

            }

            .label-status-sgs {
                margin: -5px 2px 5px 0;
            }

            .top_notify_count {
                padding: 3px 4px;
                font-size: 9px;
                height: 16px;
                top: 6px;
                left: 8px;
                text-align: center;
                position: absolute;
                border: 1px solid #3097d1;
            }

            @media (min-width: 991px) {
                #top_notify_count_string {
                    display: none;
                }
            }

            .mce-menubar .mce-menubtn:hover,
            .mce-menubar .mce-menubtn.mce-active,
            .mce-menubar .mce-menubtn:focus{
                cursor: pointer;
                color: #373a3c;
                border: 1px solid #f0f0f0;
                border-color: #cccccc;
                text-shadow: 0 1px 1px rgba(255, 255, 255, 0.75);
                -webkit-border-radius: 3px;
                -moz-border-radius: 3px;
                border-radius: 3px;
                background-color: #ffffff;
            }

            .mce-btn button {
                line-height: normal !important;
            }
            div.mce-stack-layout-item
            {
                padding: .25rem;
            }

            .tt-menu {
                min-width: 18rem;
            }

            .btn-square {
                padding: .375rem .5rem;
            }
        </style>

    

    
    <link rel="stylesheet" type="text/css" href="/static/issues/issue.css">
    <script src="/static/jquery.validate.min.js"></script>



<script src="https://malsup.github.io/jquery.form.js"></script>
<script src="/static/tinymce/tinymce.min.js"></script>
<script src="/static/tinymce/jquery.tinymce.min.js"></script>
<script src="/static/prism.js"></script>

<link href="/static/prism.css" rel='stylesheet' />
<link href="/static/tinymce-style-issue-comment.css" rel='stylesheet' />
<link href="/static/tinymce-style-task.css" rel='stylesheet' />

<script type="text/javascript">
    var tinymce_default = {
        language: 'en',
        skin: 'bootstrap4',
        content_css: [
            'https://maxcdn.bootstrapcdn.com/bootstrap/4.0.0-alpha.2/css/bootstrap.min.css',
            '/static/tinymce-style-issue-comment.css',
            '/static/prism.css'
        ],
        relative_urls : false,
        remove_script_host: false
    };

    $(document).ready(function () {

        $(document).on('focusin', function(e) {
            if ($(e.target).closest(".mce-window").length) {
                e.stopImmediatePropagation();
            }
        });

        $('#task-text').on('hide.bs.collapse', function () {
            $(".btn-history-task-text").blur();
            window.sessionStorage.setItem('collapsed', true);
        }).on('show.bs.collapse', function () {
            $(".btn-history-task-text").blur();
            window.sessionStorage.setItem('collapsed', false);
        }).on('hidden.bs.collapse', function () {
            $("span.fa", ".btn-history-task-text").removeClass("fa-caret-up").addClass("fa-caret-down");
        }).on('shown.bs.collapse', function () {
            window.sessionStorage.setItem('collapsed', false);
            $("span.fa", ".btn-history-task-text").removeClass("fa-caret-down").addClass("fa-caret-up");
        });

        if(window.sessionStorage.getItem('collapsed') === "true") {
            $('#task-text').collapse('hide');
            $("span.fa", ".btn-history-task-text").removeClass("fa-caret-up").addClass("fa-caret-down");
        } else {
            $('#task-text').collapse('show');
            $("span.fa", ".btn-history-task-text").removeClass("fa-caret-down").addClass("fa-caret-up");
        }

        $("select[multiple]").multiselect({
            buttonClass: 'btn btn-secondary btn-block',
            templates: {
                ul: '<ul class="multiselect-container dropdown-menu" style="left:inherit;top: inherit;"></ul>',
                li: '<li><a tabindex="0" class="dropdown-item"><label></label></a></li>',
                filter: '<li class="multiselect-item filter"><div class="input-group"><input class="form-control multiselect-search" type="text"></div></li>',
                filterClearBtn: '<span class="input-group-btn"><button class="btn btn-secondary btn-block multiselect-clear-filter" type="button"><i class="fa fa-times"></i></button></span>'
            },
            enableCaseInsensitiveFiltering: true,
            filterPlaceholder: "Find",
            maxHeight: 200,
            buttonContainer: '<div style="width:100%;" class="multiselect-dropdown"/>',
            buttonWidth: '100%',
            buttonTitle: function(options, select) {
                var labels = [];

                if (options.length === 0) {
                    return '---';
                }
                else {
                    options.each(function () {
                        labels.push($(this).text());
                    });
                }
                return labels.join(', ');
            },
            buttonText: function(options, select) {
                if (options.length === 0) {
                    return '---';
                }
                else {
                    var labels = [];
                    options.each(function() {
                        if ($(this).attr('label') !== undefined) {
                            labels.push($(this).attr('label'));
                        }
                        else {
                            labels.push($(this).text());
                        }
                    });
                    return labels.join(', ') + '';
                }
            }
        });

        var info_width = $('ul.history').closest('.card').innerWidth();

        $("#id_comment").tinymce($.extend({}, tinymce_default, {
            setup: function(editor) {
                editor.addButton('preview_text', {
                    icon: false,
                    text: 'Preview',
                    cmd: 'mcePreview'
                });
                editor.addMenuItem('codesample', {
                    icon: 'codesample',
                    text: 'Insert/Edit code sample',
                    cmd: 'codesample'
                });
            },
            plugins: [
                'autoresize autosave autolink codesample hr image link lists',
                'table textpattern wordcount contextmenu preview paste'
            ],
            menubar: false,
            toolbar: 'undo redo | bold italic underline | alignleft aligncenter alignright alignjustify | bullist numlist outdent indent | image link hr | blockquote codesample table | preview_text',
            autoresize_bottom_margin: 10,
            autoresize_overflow_padding: 10,
            image_description: false,
            link_assume_external_targets: true,
            default_link_target: "_blank",
            target_list: false,
            link_title: false,
            table_default_attributes: {
                "class": 'table table-bordered table-comment'
            },
            textpattern_patterns: [
                {start: '1. ', cmd: 'InsertOrderedList'}
            ],
            contextmenu: "link image codesample",
            paste_auto_cleanup_on_paste : true,
            paste_remove_styles: true,
            paste_remove_styles_if_webkit: true,
            paste_strip_class_attributes: true,
            plugin_preview_width: info_width,
            autosave_ask_before_unload: false
        }));

        $("textarea.comment-verdict").tinymce($.extend({}, tinymce_default, {
            plugins: [
                'autolink lists paste placeholder'
            ],
            content_style: "body {padding: .375rem .75rem;}",
            height: 40,
            menubar: false,
            toolbar: false,
            statusbar: false,
            default_link_target: "_blank",
            autosave_ask_before_unload: false
        }));

        $("#id_comment").keydown(function (e) {
            if (e.ctrlKey && e.keyCode == 13) {
                $("form#comment").submit();
            }
        });

        $('div.container form:not(.navbar-form)').submit(function(e){
            var d = 'disabled';
            if ($(this).valid()) {
                $(this).find('button[type="submit"]:first').attr(d, d).prop(d, true).html("<span class='fa fa-circle-o-notch fa-spin fa-fw'></span> Saving");
                $(this).find('button[type="submit"]:not(:first)').hide();
                $(this).find('.dropdown-submit').hide();
            }
        });

        $('#modal_task_description_btn').click(function (e) {
            $('#modal_task_description').modal('show');
            e.preventDefault();
        });

        jQuery.validator.addMethod("lt_max", function(value, element) {
            var value = parseFloat(value);
            var max = parseFloat($('#max_mark').val());
            return isNaN(value) || value <= max;
        });

        $("#mark_form").validate({
            rules: {
                mark: {
                    required : true,
                    number: true,
                    min: 0,
                    lt_max: true
                }
            },

            highlight: function(input) {
                $(input).removeClass('form-control-success').addClass('form-control-danger');
                $('#mark_fieldset_id').removeClass('has-success').addClass('has-danger');
            },

            success: function(label) {
                label.addClass('valid');
                $('#id_mark').removeClass('form-control-danger').addClass('form-control-success');
                $('#mark_fieldset_id').removeClass('has-danger').addClass('has-success');
            },

            messages: {
                mark: {
                    required : "Please enter mark",
                    number : "Natural number",
                    min : "Mark should be greater or equal to 0",
                    lt_max : "Mark should not be greater " + $('#max_mark').val()
                }
            },

            errorPlacement: function (error, element) {
                $('#mark_edit_error_text').empty().append(error );
            }
        });
    });

    function add_file_field() {
        var files = $('#id_files')[0].outerHTML;
        $("#file_field").append('<tr><td>' + files + '</td></tr>');
    }


</script>


</head>

<body>

    <nav class="navbar navbar-fixed-top navbar-dark navbar-blue">
        <div class="container">
            <a class="navbar-brand" href="/">Anytask</a>
            <!--
            <ul class="nav">
                <li><a href="/about">About</a></li>
            </ul>
            -->
            <button class="navbar-toggler hidden-lg-up pull-xs-right" type="button" data-toggle="collapse" data-target="#exCollapsingNavbar2">
                <span class="fa fa-bars fa" aria-hidden="true"></span>
            </button>
            <div class="collapse navbar-toggleable-md" id="exCollapsingNavbar2">
                
    <ul class="nav navbar-nav">
        <li class="nav-item">
            <a class="nav-link" href="/course/899#tasks-tab">Assignments list</a>
        </li>
        
    </ul>

                
                    <div class="nav-right">
                        
                            <ul class="nav navbar-nav">
                                
                                    <li class="nav-item">
                                        <div class="nav-form-search">
                                            <form class="navbar-form" role="search" method="get"
                                                  action="/search/">
                                                <div class="input-group">
                                                    <div class="input-group-input">
                                                        <input class="typeahead form-control" id="navbar_search" name="q" type="text" placeholder="Find">
                                                    </div>
                                                    <div class="input-group-btn">
                                                        <button class="btn" type="submit"><span class="fa fa-search" style="line-height: 1.5"></span></button>
                                                    </div>
                                                </div>
                                            </form>
                                        </div>
                                    </li>
                                
                                
                                    <li class="nav-item">
                                        <a href="/mail/" class="nav-link" role="button" style="position: relative;"><span class="fa fa-envelope" aria-hidden="true" style="line-height: inherit;"></span>
                                            
                                                <span id="top_notify_count" class="label label-pill label-danger top_notify_count"></span>
                                                <span id="top_notify_count_string">No new messages</span>
                                            
                                        </a>
                                    </li>
                                
                                <li class="nav-item dropdown">
                                    <a href="#" class="nav-link dropdown-toggle" data-toggle="dropdown" role="button" aria-haspopup="true" aria-expanded="false">
                                        <span class="fa fa-user"></span>
                                        <span id="navbar_user_name">Кирилл Козлов </span>
                                    </a>
                                    <div class="dropdown-menu dropdown-menu-right dropdown-username" aria-labelledby="dropdownMenu1">
                                        <h6 class="dropdown-header">Кирилл Козлов</h6>
                                        <a class="dropdown-item" href="/accounts/profile">Profile</a>
                                        <a class="dropdown-item" href="/user/settings">Settings</a>
                                        
                                        <div class="dropdown-divider"></div>
                                        <a class="dropdown-item" href="/accounts/password/change/">Change password</a>
                                        <div class="dropdown-divider"></div>
                                        <a class="dropdown-item" href="/accounts/logout/">Logout</a>
                                    </div>
                                <li class="nav-item">
                                    <a class="nav-link" href="" OnClick="set_lang('ru'); return false;">RU</a>
                                </li>

                                <li class="nav-item">
                                    <a class="nav-link" href="" OnClick="set_lang('en'); return false;">EN</a>
                                </li>

                                </li>
                            </ul>
                        
                    </div>
                
            </div>
        </div>
    </nav>


<div class="container">
    
    
    
    
        
        
    
    
        
    
    
    
    


    

    
    
        <ul class="breadcrumb">
    
        <li>
            
                <a href="/">Home</a>
            
        </li>
    
        <li>
            
                <a href="/school/hse">Высшая школа экономики</a>
            
        </li>
    
        <li>
            
                <a href="/course/899">ВШЭ &gt; Майнор ИАД &gt; Основы машинного обучения 2021/2022</a>
            
        </li>
    
        <li class="active">
            
                Issue: 263084 Домашнее задание 4
            
        </li>
    
</ul>

    
    
        <div class="row">
            <div class="col-md-8 col-sm-12 col-xs-12">
                







<script type="text/javascript">

    $(document).on("click", "#old_comments_button", function() {
        if($("#top_alert").hasClass("clicked")) {
            $("#top_alert").show();
            $("#top_alert").removeClass("clicked");
        } else {
            $("#top_alert").hide();
            $("#top_alert").addClass("clicked");
        }
    });

</script>

<style>
    .mce-tinymce {
        margin-bottom: 1rem;
    }
    .ipynb-file-link .dropdown-menu{
        min-width: auto;
    }
</style>
<div class="card card-block">
    <h5 class="card-title">Домашнее задание 4
        <a class="btn btn-secondary btn-sm btn-square btn-history-task-text" data-toggle="collapse" href="#task-text"
           aria-expanded="false" aria-controls="task-text">
            <span class="fa fa-caret-down"></span>
        </a>
    </h5>
    <div class="collapse" id="task-text">
        <p>Ссылка на задание:&nbsp;https://github.com/hse-ds/iad-intro-ds/blob/master/2022/homeworks/hw04-sklearn-knn-linreg.ipynb</p>
<p>В дате сдачи указан мягкий&nbsp;<span style="font-size: 1rem;">дедлайн</span></p>
<p>Удачи!</p>
    </div>
    
</div>
<div class="card card-block">
    <h5 class="card-title">Problem discussion</h5>
    <ul class="history">
        
        
        
            Nothing here
        
    </ul>
</div>

<div>
    
    









<link
    rel="stylesheet"
    href="/static/demo/blueimp-gallery.min.css"
>




<link rel="stylesheet" href="/static/css/jquery.fileupload.css">




<link rel="stylesheet" href="/static/css/jquery.fileupload-ui.css">

<noscript>
    <link rel="stylesheet"
      href="/static/css/jquery.fileupload-ui-noscript.css"
    >
</noscript>





    

    <!--[if lt IE 9]>
    <script src="http://html5shim.googlecode.com/svn/trunk/html5.js">
    </script>
    <![endif]-->












<form
    id="fileupload" action="/issue/upload/"
    method="POST" enctype="multipart/form-data"
>

    <input type='hidden' name='csrfmiddlewaretoken' value='WqOTzDD9xcON7Qwezp58ludFROnSn7fKcVfR1cVYLNXZkrLv9ErKiywROK4RU3l9' />

    
    <noscript>
        <input type="hidden" name="redirect" value="/static/demo/jQuery-File-Upload/">
    </noscript>
    <input type="hidden" name="form_name" value="comment_form">
    <textarea rows="4" name="comment" id="id_comment" cols="40" class="form-control col-md-12" style="margin-bottom: 10px;"></textarea>
    <input type="hidden" name="issue_id" value="263084">
    
    <div class="fileupload-buttonbar">
    

        <div class="col-md-12" style="padding: 0">

            

            
            <style type = "text/css">
            .drop-zone {
              border: 2px dashed rgba(0,0,0,.3);
              border-radius: 10px;
              font-family: Arial;
              text-align: center;
              position: relative;
              line-height: 70px;
              font-size: 20px;
              color: rgba(0,0,0,.3);
            }
            .drop-btn {
              position: relative;
              float: none;
            }
            </style>
            <div id="filename_changed_alert" class="alert alert-warning alert-dismissible" role="alert" style="display: none;margin-bottom: 0;">
                <button type="button" class="close" data-dismiss="alert" aria-label="Close">
                    <span aria-hidden="true">&times;</span>
                </button>
                Send only one file
            </div>
            <table style="margin-bottom: 0px;" role="presentation" class="table table-striped">
               <tbody class="files" data-toggle="modal-gallery" data-target="#modal-gallery"></tbody>
            </table>
            
                <div class="drop-zone" id="drop-zone" ondragenter="this.style.background='#E0E0E0';" ondragleave="this.style.background='';" ondrop="this.style.background='';">

                <span class="btn btn-secondary drop-btn fileinput-button" id="drop-btn">
                    <span>Select files</span>

                    
                    
                    <input
                        type="file" name="files[]"

                        
                            multiple
                        

                        
                    >
                    
                </span>
                Or drag and drop
                </div>
            
            

            
            
                <input type="hidden" name="update_issue" value="" />
                <button style="margin-top: 10px;" type="submit" class="btn btn-primary pull-xs-right">
                    <span>Send</span>
                </button>
            
            
        </div>
        
        
        

    </div>
    

    

    
    <div class="fileupload-loading"></div>
    <br>
    

    
    
    

</form>






<div id="blueimp-gallery" class="blueimp-gallery blueimp-gallery-controls" data-filter=":even">
    <div class="slides"></div>
    <h3 class="title"></h3>
    <a class="prev">&larr;</a>
    <a class="next">&rarr;</a>
    <a class="close">x</a>
    <a class="play-pause"></a>
    <ol class="indicator"></ol>
</div>








<script id="template-upload" type="text/x-tmpl">
{% var messages = {};
    messages["Maximum number of files exceeded"] = 'Number of files exceeded ';
    messages["Filetype not allowed"] = 'Invalid file type';
    messages["File is too big"] = 'The file is too big';
    messages["File is too small"] = 'The file is too small';

    for (var i=0, file; file=o.files[i]; i++) { %}
    <tr class="template-upload fade">
        <td class="preview"><span class="fade"></span></td>
        <td class="name"><span>{%=file.name%}</span></td>
        <td class="size"><span>{%=o.formatFileSize(file.size)%}</span></td>

        {% if (file.error) { %}
            <td class="error" colspan="2">
                <span class="label label-danger">Error</span>
                {%=messages[file.error]%}
            </td>
        {% } else if (o.files.valid && !i) { %}

            <td>
                <progress class="progress">
                    <div class="progress-bar progress-bar-success progress-bar-striped active bar" role="progressbar" style="width:0%"></div>
                </progress>
            </td>

            <td class="cancel">{% if (!o.options.autoUpload) { %}
            {% } %}</td>
        {% } else { %}
            <td colspan="2"></td>
        {% } %}
        <td class="start">{% if (!i) { %}
        {% } %}</td>
    </tr>
{% } %}
</script>






<script id="template-download" type="text/x-tmpl">
{% for (var i=0, file; file=o.files[i]; i++) { %}

    <tr class="template-download fade">

        
        <td>
            <span class="preview">
                {% if (file.thumbnailUrl) { %}
                    <a href="{%=file.url%}"
                     title="{%=file.name%}"
                     download="{%=file.name%}"
                     data-gallery><img src="{%=file.thumbnailUrl%}"
                    ></a>
                {% } %}
            </span>
        </td>
        

        
        <td>
            <p class="name">
                {% if (file.url) { %}
                    <a href="{%=file.url%}"
                     title="{%=file.name%}"
                     download="{%=file.name%}"
                     {%=file.thumbnailUrl?'data-gallery':''%}>
                     {%=file.name%}
                    </a>
                {% } else { %}
                    <span>{%=file.name%}</span>
                {% } %}
            </p>

            
                {% if (file.error) { %}
                    <div><span class="label label-danger">Error</span> {%=file.error%}</div>
                {% } %}
            

        </td>
        

        
        <td>
            <span class="size">{%=o.formatFileSize(file.size)%}</span>
        </td>
        

        
        {%
            if (file.one_file_upload) {
                $('#filename_changed_alert').show();
                $('.drop-zone').hide();
            }
        %}
        <td>
            <button class="btn btn-danger delete" data-type="{%=file.delete_type%}"
                    data-url="{%=file.delete_url%}"
                    data-data='{ "csrfmiddlewaretoken" : "WqOTzDD9xcON7Qwezp58ludFROnSn7fKcVfR1cVYLNXZkrLv9ErKiywROK4RU3l9" }'
                    {% if (file.delete_with_credentials) { %}
                         data-xhr-fields='{"withCredentials":true}'
                    {% } %}>
                <i class="fa fa-times" style="color:#FFFFFF"></i>
                <span></span>
            </button>
        </td>
        <td>
        {% if (file.send_to_contest) { %}
            <div class="alert alert-success" role="alert">Select compilator</div>
            <select id='compiler' name="compiler_for_{%=file.pk%}" class="form-control">
                {% if (file.chosen_compiler) { %}
                    <option value="{%=file.chosen_compiler%}"> {%=file.chosen_compiler%} </option>
                {% } %}
                {% for (var j=0, compiler; compiler=file.problem_compilers[j]; j++) { %}
                    <option value="{%=compiler%}">{%=compiler%}</option>
                {% } %}
            </select>
        {% } %}
        </td>
        {% if (!file.send_to_contest) { %}
            <input type="hidden" name="pk_{%=file.name%}" value="{%=file.pk%}">
        {% } %}

    </tr>
{% } %}
</script>











<script src="/static/js/vendor/jquery.ui.widget.js"></script>




<script src="/static/demo/tmpl.min.js"></script>




<script src="/static/demo/load-image.min.js"></script>




<script src="/static/demo/canvas-to-blob.min.js"></script>



<script src="https://maxcdn.bootstrapcdn.com/bootstrap/3.3.7/js/bootstrap.min.js" integrity="sha384-Tc5IQib027qvyjSMfHjOMaLkfuWVxZxUPnCJA7l2mCWNIpG9mGCD8wGNIcPD7Txa" crossorigin="anonymous"></script>



<script src="/static/demo/jquery.blueimp-gallery.min.js"></script>




<script src="/static/js/jquery.iframe-transport.js"></script>




<script src="/static/js/jquery.fileupload.js"></script>




<script src="/static/js/jquery.fileupload-process.js"></script>





<script src="/static/js/jquery.fileupload-image.js"></script>





<script src="/static/js/jquery.fileupload-audio.js"></script>





<script src="/static/js/jquery.fileupload-video.js"></script>





<script src="/static/js/jquery.fileupload-validate.js"></script>





<script src="/static/js/jquery.fileupload-ui.js"></script>




<script type="text/javascript">
    $( function() {
        'use strict';

        

        
    $('#fileupload').fileupload({
        formData: [
            { name: "csrfmiddlewaretoken", value: "WqOTzDD9xcON7Qwezp58ludFROnSn7fKcVfR1cVYLNXZkrLv9ErKiywROK4RU3l9"},
            { name: "issue_id", value: "263084"},
            { name: "comment", value:function() {return $("#id_comment").val()}}
        ],
        
            autoUpload: true,
            maxFileSize: 104857600,
            
                maxNumberOfFiles: 10,
            
            dropZone: $(".drop-zone"),
        
    });

    $('.fileupload-buttonbar').on("click", '.delete', function() {
        $('#filename_changed_alert').hide();
        $('.drop-zone').show();
    });


    });
</script>




<!--[if gte IE 8]>
<script src="/static/js/cors/jquery.xdr-transport.js"></script>
<![endif]-->








</div>

<script src="https://maxcdn.bootstrapcdn.com/bootstrap/4.0.0-alpha.2/js/bootstrap.min.js"></script>
<script src="/static/typeahead.bundle.min.js"></script>

            </div>
            <div class="col-md-4 col-sm-12 col-xs-12 ">
                





<style>
    .card-header {
        background-color: #FFFFFF;
    }
    #accordion2 div.form-group {
        margin-bottom: 1.2rem;
    }
    #accordion2 div.form-group.btn-group-submit {
        margin-bottom: 0;
    }
    #accordion2 small.text-help .error{
        margin: -1.2rem 0 0 0;
    }
    #accordion2 .mce-container.mce-panel {
        padding: 0 !important;
        font-size: 1rem;
        line-height: 1.5;
        color: #55595c;
        background-color: #fff;
        background-image: none;
        border: 1px solid #ccc;
        border-radius: .25rem;
    }
    #accordion2 .mce-container.mce-panel iframe {
        border-radius: .25rem;
    }
    #accordion2 .mce-tinymce .mce-edit-area{
        border: none;
    }
    .mce-tinymce .mce-edit-area label {
        padding: .375rem .75rem !important;
        font-size: 1rem !important;
    }
</style>


<div id="accordion2">
    
        
    
        
            <div class="card" style="margin-bottom: .3rem;">
                <div class="card-header">
                    <div class="row col-wrap">
                        <div class="col-md-5 accordion2-label">
                            
                                Year of study:
                            
                        </div>
                        <div class="col-md-7 accordion2-result">
                            
                                
                                    
                                        <a href="/course/899">ВШЭ > Майнор ИАД > Основы машинного обучения 2021/2022</a>
                                    
                                
                            
                        </div>
                    </div>
                </div>
                
            </div>
        
    
        
            <div class="card" style="margin-bottom: .3rem;">
                <div class="card-header">
                    <div class="row col-wrap">
                        <div class="col-md-5 accordion2-label">
                            
                                Problem:
                            
                        </div>
                        <div class="col-md-7 accordion2-result">
                            
                                
                                    
                                        <a href="#" id="modal_task_description_btn">Домашнее задание 4</a>
                                    
                                
                            
                        </div>
                    </div>
                </div>
                
            </div>
        
    
        
            <div class="card" style="margin-bottom: .3rem;">
                <div class="card-header">
                    <div class="row col-wrap">
                        <div class="col-md-5 accordion2-label">
                            
                                Student:
                            
                        </div>
                        <div class="col-md-7 accordion2-result">
                            
                                
                                    
                                        <a class="user" href="/users/kirieshkins/">Козлов Кирилл</a>
                                    
                                
                            
                        </div>
                    </div>
                </div>
                
            </div>
        
    
        
            <div class="card" style="margin-bottom: .3rem;">
                <div class="card-header">
                    <div class="row col-wrap">
                        <div class="col-md-5 accordion2-label">
                            
                                TA:
                            
                        </div>
                        <div class="col-md-7 accordion2-result">
                            
                                
                                    ---
                                
                            
                        </div>
                    </div>
                </div>
                
            </div>
        
    
        
            <div class="card" style="margin-bottom: .3rem;">
                <div class="card-header">
                    <div class="row col-wrap">
                        <div class="col-md-5 accordion2-label">
                            
                                Viewers:
                            
                        </div>
                        <div class="col-md-7 accordion2-result">
                            
                                
                                    ---
                                
                            
                        </div>
                    </div>
                </div>
                
            </div>
        
    
        
            <div class="card" style="margin-bottom: .3rem;">
                <div class="card-header">
                    <div class="row col-wrap">
                        <div class="col-md-5 accordion2-label">
                            
                                Status:
                            
                        </div>
                        <div class="col-md-7 accordion2-result">
                            
                                
                                    
                                        Новый
                                    
                                
                            
                        </div>
                    </div>
                </div>
                
            </div>
        
    
        
            <div class="card" style="margin-bottom: .3rem;">
                <div class="card-header">
                    <div class="row col-wrap">
                        <div class="col-md-5 accordion2-label">
                            
                                Mark:
                            
                        </div>
                        <div class="col-md-7 accordion2-result">
                            
                                
                                    
                                        0 out of 10
                                    
                                
                            
                        </div>
                    </div>
                </div>
                
            </div>
        
    
        
    
    <div class="card">
        <div class="card-header">
            <div class="row col-wrap">
                <div class="col-md-5 accordion2-label">Submit due:</div>
                <div class="col-md-7 accordion2-result">
                    18-03-2022 00:00  
                </div>
            </div>
        </div>
    </div>
</div>



<div class="modal fade" id="modal_task_description" tabindex="-1" role="dialog" aria-labelledby="modal_header_task_descr" aria-hidden="true">
    <div class="modal-dialog modal-lg" role="document">
        <div class="modal-content">
            <div class="modal-header">
                <button type="button" class="close" data-dismiss="modal" aria-label="Close"><span aria-hidden="true">&times;</span></button>
                <h5  class="modal-title" id="modal_header_task_descr" style="display: inline-block; ">Домашнее задание 4</h5>
                
                <div id="modal_header_deadline_time"><strong>Submit due: 18-03-2022 00:00</strong></div>
            </div>
            <div class="modal-body">
                <div id="modal_body_task_descr"><p>Ссылка на задание:&nbsp;https://github.com/hse-ds/iad-intro-ds/blob/master/2022/homeworks/hw04-sklearn-knn-linreg.ipynb</p>
<p>В дате сдачи указан мягкий&nbsp;<span style="font-size: 1rem;">дедлайн</span></p>
<p>Удачи!</p></div>
            </div>
        </div>
    </div>
</div>


            </div>
        </div>
    


</div>


<footer class="footer">
    <div class="container">
         
        <div style="display: inline-block; width: 100%">
            <small class="text-muted" ><a target="_blank"href="https://github.com/znick/anytask/">Github</a></small>


















            <small class="text-muted pull-xs-right" >Contact us <a href="mailto:anytask@yandex.ru">anytask@yandex.ru</a></small>
        </div>
    </div>
</footer>




<!-- Yandex.Metrika counter -->
<script type="text/javascript">
    (function (d, w, c) {
        (w[c] = w[c] || []).push(function() {
            try {
                w.yaCounter26396970 = new Ya.Metrika({id:26396970,
                    webvisor:true,
                    clickmap:true,
                    trackLinks:true,
                    accurateTrackBounce:true});
            } catch(e) { }
        });

        var n = d.getElementsByTagName("script")[0],
            s = d.createElement("script"),
            f = function () { n.parentNode.insertBefore(s, n); };
        s.type = "text/javascript";
        s.async = true;
        s.src = (d.location.protocol == "https:" ? "https:" : "http:") + "//mc.yandex.ru/metrika/watch.js";

        if (w.opera == "[object Opera]") {
            d.addEventListener("DOMContentLoaded", f, false);
        } else { f(); }
    })(document, window, "yandex_metrika_callbacks");
</script>
<noscript><div><img src="//mc.yandex.ru/watch/26396970" style="position:absolute; left:-9999px;" alt="" /></div></noscript>
<!-- /Yandex.Metrika counter -->

</body>
</html>
